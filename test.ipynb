{
 "cells": [
  {
   "cell_type": "code",
   "execution_count": 1,
   "metadata": {},
   "outputs": [],
   "source": [
    "import os\n",
    "os.environ[\"GRPC_DNS_RESOLVER\"] = \"native\"\n",
    "os.environ[\"NO_PROXY\"] = \"localhost,127.0.0.1\"\n",
    "os.environ[\"CURL_CA_BUNDLE\"] = \"\"\n",
    "os.environ[\"PYTHONHTTPSVERIFY\"] = \"0\"\n",
    "\n",
    "import socket\n",
    "orig_getaddrinfo = socket.getaddrinfo\n",
    "def getaddrinfo_ipv4(*args, **kwargs):\n",
    "    return [ai for ai in orig_getaddrinfo(*args, **kwargs) if ai[0] == socket.AF_INET]\n",
    "socket.getaddrinfo = getaddrinfo_ipv4"
   ]
  },
  {
   "cell_type": "code",
   "execution_count": 4,
   "metadata": {},
   "outputs": [
    {
     "name": "stdout",
     "output_type": "stream",
     "text": [
      "Files: [{'id': '12zNa4AnLj8f9SR06Q3ARBkgRN3tZVR92rIOn_Q5O3ds', 'name': 'May 2025 Monthly Budget'}, {'id': '1LuBq0aZJMcuh0e4ew92yEAc4Qo603eIzKar4KqtIPZk', 'name': 'Receipt to Sheet'}, {'id': '1jYwr15deM2IetvsO8bdh09nOnIfqnSXtz6e7KGVkoMk', 'name': 'Untitled document'}, {'id': '1frmKXqe7pA6qa1a6oCpYVqsRtBAJutdrSWbJ5yTkcDA', 'name': 'Untitled document'}, {'id': '1shoR_wQPQtWuqMnv5LgC1riOA5RhzwfgzFMRLP_oL4s', 'name': 'Untitled document'}, {'id': '16FKTL828iPdjx757S9X7Cp2A3nMku_GD0SM5XlXxmpA', 'name': 'Untitled document'}, {'id': '1NUf220k9Aibw7aDWw6kdORPqGl8UKPqhWgOX96EYEvY', 'name': 'Untitled document'}, {'id': '1lQqXPUpAyy1IlVH2c_mCJMJuIZ9ugJ8RddgYUntqqxc', 'name': 'Digital Closet & AI Stylist'}, {'id': '13UyUJ-n0CgXyqDIu5McSk7DcToujnbEMhE8YvCTEEsg', 'name': 'Untitled document'}, {'id': '1Vy1NFzitMPynLwKFoZ0du8h5243qyAWAJZppcdhTH04', 'name': 'June 2025 Monthly Budget'}]\n"
     ]
    }
   ],
   "source": [
    "from google.oauth2.credentials import Credentials\n",
    "from googleapiclient.discovery import build\n",
    "import pickle\n",
    "\n",
    "with open('token.pickle', 'rb') as token:\n",
    "    creds = pickle.load(token)\n",
    "\n",
    "service = build('drive', 'v3', credentials=creds)\n",
    "results = service.files().list(\n",
    "    pageSize=10,\n",
    "    fields=\"files(id, name)\"\n",
    ").execute()\n",
    "items = results.get('files', [])\n",
    "print('Files:', items)"
   ]
  }
 ],
 "metadata": {
  "kernelspec": {
   "display_name": "NER",
   "language": "python",
   "name": "python3"
  },
  "language_info": {
   "codemirror_mode": {
    "name": "ipython",
    "version": 3
   },
   "file_extension": ".py",
   "mimetype": "text/x-python",
   "name": "python",
   "nbconvert_exporter": "python",
   "pygments_lexer": "ipython3",
   "version": "3.12.8"
  }
 },
 "nbformat": 4,
 "nbformat_minor": 2
}
